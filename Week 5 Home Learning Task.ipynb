{
 "cells": [
  {
   "cell_type": "markdown",
   "metadata": {},
   "source": [
    "Create a CSV file of 15 holiday destinations for a website in EXCEL\n",
    "1. Add in a column of destinations\n",
    "2. Add in a column that shows feedback score out of 10 for that destination\n",
    "3. Add in a column for average hotel star rating for those destinations\n",
    "4. Add in a column for number of all-inclusive hotels within each destination\n",
    "5. Add in the most visited city in each destination"
   ]
  },
  {
   "cell_type": "code",
   "execution_count": 199,
   "metadata": {},
   "outputs": [],
   "source": [
    "## Import Pandas\n",
    "import pandas as pd\n",
    "import numpy as np\n",
    "import matplotlib.pyplot as plt\n",
    "%matplotlib inline "
   ]
  },
  {
   "cell_type": "code",
   "execution_count": 253,
   "metadata": {},
   "outputs": [
    {
     "name": "stdout",
     "output_type": "stream",
     "text": [
      "   Destinations  Rating  Avg Rating  All inclusive hotels Favoured Cities\n",
      "0        France       7           4                   810           Paris\n",
      "1       Iceland       9           4                   200       Reykjavic\n",
      "2       Morroco       7           3                   310             Fez\n",
      "3       Germany       6           3                   595          Berlin\n",
      "4      Portugal       8           3                   690           Porto\n",
      "5   Switzerland       6           4                   470          Geneva\n",
      "6         Japan       9           5                   800           Kyoto\n",
      "7   South Korea       9           3                     5           Seoul\n",
      "8   North Korea       1           1                     2       Pyongyang\n",
      "9         Italy      10           3                  1550          Venice\n",
      "10       Canada       8           5                  1700        Montreal\n",
      "11      America       5           4                 11500        New York\n",
      "12      Croatia       6           2                   700          Zagreb\n",
      "13      Hungary       7           2                   600        Budapest\n",
      "14      Ireland       5           3                   500          Dublin\n",
      "The file has  15 number of rows and  5 number of columns\n"
     ]
    }
   ],
   "source": [
    "#data = pd.read_csv(\"D:\\\\Techtalent\\\\Destinations data.csv\")\n",
    "data=pd.read_csv(\"Destinations data.csv\")\n",
    "print(data)\n",
    "data.shape\n",
    "print(\"The file has \",data.shape[0] ,\"number of rows and \", data.shape[1], \"number of columns\")"
   ]
  },
  {
   "cell_type": "code",
   "execution_count": 260,
   "metadata": {},
   "outputs": [
    {
     "data": {
      "text/html": [
       "<div>\n",
       "<style scoped>\n",
       "    .dataframe tbody tr th:only-of-type {\n",
       "        vertical-align: middle;\n",
       "    }\n",
       "\n",
       "    .dataframe tbody tr th {\n",
       "        vertical-align: top;\n",
       "    }\n",
       "\n",
       "    .dataframe thead th {\n",
       "        text-align: right;\n",
       "    }\n",
       "</style>\n",
       "<table border=\"1\" class=\"dataframe\">\n",
       "  <thead>\n",
       "    <tr style=\"text-align: right;\">\n",
       "      <th></th>\n",
       "      <th>Destinations</th>\n",
       "      <th>Rating</th>\n",
       "      <th>Avg Rating</th>\n",
       "      <th>All inclusive hotels</th>\n",
       "      <th>Favoured Cities</th>\n",
       "    </tr>\n",
       "  </thead>\n",
       "  <tbody>\n",
       "    <tr>\n",
       "      <th>0</th>\n",
       "      <td>France</td>\n",
       "      <td>7</td>\n",
       "      <td>4</td>\n",
       "      <td>810</td>\n",
       "      <td>Paris</td>\n",
       "    </tr>\n",
       "    <tr>\n",
       "      <th>1</th>\n",
       "      <td>Iceland</td>\n",
       "      <td>9</td>\n",
       "      <td>4</td>\n",
       "      <td>200</td>\n",
       "      <td>Reykjavic</td>\n",
       "    </tr>\n",
       "    <tr>\n",
       "      <th>2</th>\n",
       "      <td>Morroco</td>\n",
       "      <td>7</td>\n",
       "      <td>3</td>\n",
       "      <td>310</td>\n",
       "      <td>Fez</td>\n",
       "    </tr>\n",
       "    <tr>\n",
       "      <th>3</th>\n",
       "      <td>Germany</td>\n",
       "      <td>6</td>\n",
       "      <td>3</td>\n",
       "      <td>595</td>\n",
       "      <td>Berlin</td>\n",
       "    </tr>\n",
       "    <tr>\n",
       "      <th>4</th>\n",
       "      <td>Portugal</td>\n",
       "      <td>8</td>\n",
       "      <td>3</td>\n",
       "      <td>690</td>\n",
       "      <td>Porto</td>\n",
       "    </tr>\n",
       "    <tr>\n",
       "      <th>5</th>\n",
       "      <td>Switzerland</td>\n",
       "      <td>6</td>\n",
       "      <td>4</td>\n",
       "      <td>470</td>\n",
       "      <td>Geneva</td>\n",
       "    </tr>\n",
       "    <tr>\n",
       "      <th>6</th>\n",
       "      <td>Japan</td>\n",
       "      <td>9</td>\n",
       "      <td>5</td>\n",
       "      <td>800</td>\n",
       "      <td>Kyoto</td>\n",
       "    </tr>\n",
       "    <tr>\n",
       "      <th>7</th>\n",
       "      <td>South Korea</td>\n",
       "      <td>9</td>\n",
       "      <td>3</td>\n",
       "      <td>5</td>\n",
       "      <td>Seoul</td>\n",
       "    </tr>\n",
       "    <tr>\n",
       "      <th>8</th>\n",
       "      <td>North Korea</td>\n",
       "      <td>1</td>\n",
       "      <td>1</td>\n",
       "      <td>2</td>\n",
       "      <td>Pyongyang</td>\n",
       "    </tr>\n",
       "    <tr>\n",
       "      <th>9</th>\n",
       "      <td>Italy</td>\n",
       "      <td>10</td>\n",
       "      <td>3</td>\n",
       "      <td>1550</td>\n",
       "      <td>Venice</td>\n",
       "    </tr>\n",
       "    <tr>\n",
       "      <th>10</th>\n",
       "      <td>Canada</td>\n",
       "      <td>8</td>\n",
       "      <td>5</td>\n",
       "      <td>1700</td>\n",
       "      <td>Montreal</td>\n",
       "    </tr>\n",
       "    <tr>\n",
       "      <th>11</th>\n",
       "      <td>America</td>\n",
       "      <td>5</td>\n",
       "      <td>4</td>\n",
       "      <td>11500</td>\n",
       "      <td>New York</td>\n",
       "    </tr>\n",
       "    <tr>\n",
       "      <th>12</th>\n",
       "      <td>Croatia</td>\n",
       "      <td>6</td>\n",
       "      <td>2</td>\n",
       "      <td>700</td>\n",
       "      <td>Zagreb</td>\n",
       "    </tr>\n",
       "    <tr>\n",
       "      <th>13</th>\n",
       "      <td>Hungary</td>\n",
       "      <td>7</td>\n",
       "      <td>2</td>\n",
       "      <td>600</td>\n",
       "      <td>Budapest</td>\n",
       "    </tr>\n",
       "    <tr>\n",
       "      <th>14</th>\n",
       "      <td>Ireland</td>\n",
       "      <td>5</td>\n",
       "      <td>3</td>\n",
       "      <td>500</td>\n",
       "      <td>Dublin</td>\n",
       "    </tr>\n",
       "  </tbody>\n",
       "</table>\n",
       "</div>"
      ],
      "text/plain": [
       "   Destinations  Rating  Avg Rating  All inclusive hotels Favoured Cities\n",
       "0        France       7           4                   810           Paris\n",
       "1       Iceland       9           4                   200       Reykjavic\n",
       "2       Morroco       7           3                   310             Fez\n",
       "3       Germany       6           3                   595          Berlin\n",
       "4      Portugal       8           3                   690           Porto\n",
       "5   Switzerland       6           4                   470          Geneva\n",
       "6         Japan       9           5                   800           Kyoto\n",
       "7   South Korea       9           3                     5           Seoul\n",
       "8   North Korea       1           1                     2       Pyongyang\n",
       "9         Italy      10           3                  1550          Venice\n",
       "10       Canada       8           5                  1700        Montreal\n",
       "11      America       5           4                 11500        New York\n",
       "12      Croatia       6           2                   700          Zagreb\n",
       "13      Hungary       7           2                   600        Budapest\n",
       "14      Ireland       5           3                   500          Dublin"
      ]
     },
     "execution_count": 260,
     "metadata": {},
     "output_type": "execute_result"
    }
   ],
   "source": [
    "#import all data from CSV file\n",
    "#Ensure that your csv file in within the same folder as your python file\n",
    "# df = pd.read_csv ('CSV File Name')\n",
    "df = pd.read_csv('Destinations data.csv')\n",
    "df"
   ]
  },
  {
   "cell_type": "code",
   "execution_count": 255,
   "metadata": {},
   "outputs": [
    {
     "data": {
      "text/plain": [
       "Destinations            object\n",
       "Rating                   int64\n",
       "Avg Rating               int64\n",
       "All inclusive hotels     int64\n",
       "Favoured Cities         object\n",
       "dtype: object"
      ]
     },
     "execution_count": 255,
     "metadata": {},
     "output_type": "execute_result"
    }
   ],
   "source": [
    "df.dtypes"
   ]
  },
  {
   "cell_type": "markdown",
   "metadata": {},
   "source": [
    "How many rows and columns are there in your file?\n",
    "Print row 3-8 ( using iloc/loc).\n",
    "Find the mean number of all-inclusive hotels across all destinations.\n",
    "Find the lowest scoring destination.\n",
    "Find the highest scoring destination.\n",
    "Find all the destinations where there are more than 9 all-inclusive hotels.\n",
    "Filter the data by score above 8.\n",
    "Filter the data score below 2 ( I need to know if these destinations should be removed or there is a problem)"
   ]
  },
  {
   "cell_type": "code",
   "execution_count": 261,
   "metadata": {},
   "outputs": [
    {
     "name": "stdout",
     "output_type": "stream",
     "text": [
      "There are 15 rows and 5 columns\n"
     ]
    }
   ],
   "source": [
    "# How many rows and columns are there in your file?\n",
    "print(f\"There are {df.shape[0]} rows and {df.shape[1]} columns\")"
   ]
  },
  {
   "cell_type": "code",
   "execution_count": 263,
   "metadata": {},
   "outputs": [
    {
     "data": {
      "text/html": [
       "<div>\n",
       "<style scoped>\n",
       "    .dataframe tbody tr th:only-of-type {\n",
       "        vertical-align: middle;\n",
       "    }\n",
       "\n",
       "    .dataframe tbody tr th {\n",
       "        vertical-align: top;\n",
       "    }\n",
       "\n",
       "    .dataframe thead th {\n",
       "        text-align: right;\n",
       "    }\n",
       "</style>\n",
       "<table border=\"1\" class=\"dataframe\">\n",
       "  <thead>\n",
       "    <tr style=\"text-align: right;\">\n",
       "      <th></th>\n",
       "      <th>Destinations</th>\n",
       "      <th>Rating</th>\n",
       "      <th>Avg Rating</th>\n",
       "      <th>All inclusive hotels</th>\n",
       "      <th>Favoured Cities</th>\n",
       "    </tr>\n",
       "  </thead>\n",
       "  <tbody>\n",
       "    <tr>\n",
       "      <th>2</th>\n",
       "      <td>Morroco</td>\n",
       "      <td>7</td>\n",
       "      <td>3</td>\n",
       "      <td>310</td>\n",
       "      <td>Fez</td>\n",
       "    </tr>\n",
       "    <tr>\n",
       "      <th>3</th>\n",
       "      <td>Germany</td>\n",
       "      <td>6</td>\n",
       "      <td>3</td>\n",
       "      <td>595</td>\n",
       "      <td>Berlin</td>\n",
       "    </tr>\n",
       "    <tr>\n",
       "      <th>4</th>\n",
       "      <td>Portugal</td>\n",
       "      <td>8</td>\n",
       "      <td>3</td>\n",
       "      <td>690</td>\n",
       "      <td>Porto</td>\n",
       "    </tr>\n",
       "    <tr>\n",
       "      <th>5</th>\n",
       "      <td>Switzerland</td>\n",
       "      <td>6</td>\n",
       "      <td>4</td>\n",
       "      <td>470</td>\n",
       "      <td>Geneva</td>\n",
       "    </tr>\n",
       "    <tr>\n",
       "      <th>6</th>\n",
       "      <td>Japan</td>\n",
       "      <td>9</td>\n",
       "      <td>5</td>\n",
       "      <td>800</td>\n",
       "      <td>Kyoto</td>\n",
       "    </tr>\n",
       "    <tr>\n",
       "      <th>7</th>\n",
       "      <td>South Korea</td>\n",
       "      <td>9</td>\n",
       "      <td>3</td>\n",
       "      <td>5</td>\n",
       "      <td>Seoul</td>\n",
       "    </tr>\n",
       "  </tbody>\n",
       "</table>\n",
       "</div>"
      ],
      "text/plain": [
       "  Destinations  Rating  Avg Rating  All inclusive hotels Favoured Cities\n",
       "2      Morroco       7           3                   310             Fez\n",
       "3      Germany       6           3                   595          Berlin\n",
       "4     Portugal       8           3                   690           Porto\n",
       "5  Switzerland       6           4                   470          Geneva\n",
       "6        Japan       9           5                   800           Kyoto\n",
       "7  South Korea       9           3                     5           Seoul"
      ]
     },
     "execution_count": 263,
     "metadata": {},
     "output_type": "execute_result"
    }
   ],
   "source": [
    "# Print row 3-8 ( using iloc/loc).\n",
    "df.iloc[2:8]"
   ]
  },
  {
   "cell_type": "code",
   "execution_count": 270,
   "metadata": {},
   "outputs": [
    {
     "name": "stdout",
     "output_type": "stream",
     "text": [
      "The mean of all inclusive hotels is 1362.13\n"
     ]
    }
   ],
   "source": [
    "# Find the mean number of All inclusive hotels across all destinations.\n",
    "data=pd.read_csv(\"Destinations data.csv\")\n",
    "formula= data[\"All inclusive hotels\"].mean() #mean calculation of a particular column\n",
    "print(f\"The mean of all inclusive hotels is {formula:.2f}\")"
   ]
  },
  {
   "cell_type": "code",
   "execution_count": 274,
   "metadata": {},
   "outputs": [
    {
     "name": "stdout",
     "output_type": "stream",
     "text": [
      "Lowest scoring destination  \n",
      "   Destinations  Rating  Avg Rating  All inclusive hotels Favoured Cities\n",
      "8  North Korea       1           1                     2       Pyongyang\n"
     ]
    }
   ],
   "source": [
    "# Find the lowest scoring destination.\n",
    "data=pd.read_csv(\"Destinations data.csv\")\n",
    "\n",
    "minimum= data[data[\"Rating\"]==data[\"Rating\"].min()]\n",
    "print(\"Lowest scoring destination \",'\\n',minimum)"
   ]
  },
  {
   "cell_type": "code",
   "execution_count": 275,
   "metadata": {},
   "outputs": [
    {
     "name": "stdout",
     "output_type": "stream",
     "text": [
      "Highest scoring destinations \n",
      "   Destinations  Rating  Avg Rating  All inclusive hotels Favoured Cities\n",
      "9        Italy      10           3                  1550          Venice\n"
     ]
    }
   ],
   "source": [
    "# Find the highest scoring destination.\n",
    "maximum = data[data[\"Rating\"]== data[\"Rating\"].max()]\n",
    "print(\"Highest scoring destinations\",'\\n', maximum)"
   ]
  },
  {
   "cell_type": "code",
   "execution_count": 276,
   "metadata": {},
   "outputs": [
    {
     "name": "stdout",
     "output_type": "stream",
     "text": [
      "   Destinations  Rating  Avg Rating  All inclusive hotels Favoured Cities\n",
      "0        France       7           4                   810           Paris\n",
      "1       Iceland       9           4                   200       Reykjavic\n",
      "2       Morroco       7           3                   310             Fez\n",
      "3       Germany       6           3                   595          Berlin\n",
      "4      Portugal       8           3                   690           Porto\n",
      "5   Switzerland       6           4                   470          Geneva\n",
      "6         Japan       9           5                   800           Kyoto\n",
      "9         Italy      10           3                  1550          Venice\n",
      "10       Canada       8           5                  1700        Montreal\n",
      "11      America       5           4                 11500        New York\n",
      "12      Croatia       6           2                   700          Zagreb\n",
      "13      Hungary       7           2                   600        Budapest\n",
      "14      Ireland       5           3                   500          Dublin\n"
     ]
    }
   ],
   "source": [
    "# Find all the destinations where there are more than 90 all-inclusive hotels. \n",
    "hotels= data[data[\"All inclusive hotels\"] >= 90]\n",
    "print (hotels)"
   ]
  },
  {
   "cell_type": "code",
   "execution_count": 277,
   "metadata": {},
   "outputs": [
    {
     "name": "stdout",
     "output_type": "stream",
     "text": [
      "List of destinations with a rating higher than 8 : \n",
      "   Destinations  Rating  Avg Rating  All inclusive hotels Favoured Cities\n",
      "1      Iceland       9           4                   200       Reykjavic\n",
      "6        Japan       9           5                   800           Kyoto\n",
      "7  South Korea       9           3                     5           Seoul\n",
      "9        Italy      10           3                  1550          Venice\n"
     ]
    }
   ],
   "source": [
    "# Filter the data by score above 8.\n",
    "more_8 = df[df[\"Rating\"]> 8]\n",
    "print(\"List of destinations with a rating higher than 8 :\", '\\n', more_8)"
   ]
  },
  {
   "cell_type": "code",
   "execution_count": 278,
   "metadata": {},
   "outputs": [
    {
     "name": "stdout",
     "output_type": "stream",
     "text": [
      "   Destinations  Rating  Avg Rating  All inclusive hotels Favoured Cities\n",
      "0        France       7           4                   810           Paris\n",
      "2       Morroco       7           3                   310             Fez\n",
      "3       Germany       6           3                   595          Berlin\n",
      "5   Switzerland       6           4                   470          Geneva\n",
      "8   North Korea       1           1                     2       Pyongyang\n",
      "11      America       5           4                 11500        New York\n",
      "12      Croatia       6           2                   700          Zagreb\n",
      "13      Hungary       7           2                   600        Budapest\n",
      "14      Ireland       5           3                   500          Dublin\n"
     ]
    }
   ],
   "source": [
    "# Filter the data score below 2 \n",
    "below_8= data[data[\"Rating\"] < 8]\n",
    "print(below_8)"
   ]
  },
  {
   "cell_type": "markdown",
   "metadata": {},
   "source": [
    "Extension\n",
    "1. Is there a correlation between number of all-inclusive hotels and score?\n",
    "2. Create a data visualisation diagram to show destination and highest scores?"
   ]
  },
  {
   "cell_type": "code",
   "execution_count": 280,
   "metadata": {},
   "outputs": [
    {
     "name": "stdout",
     "output_type": "stream",
     "text": [
      "The correlation between number of all-inclusive hotels and score is: -0.16\n"
     ]
    }
   ],
   "source": [
    "# Is there a correlation between number of all-inclusive hotels and score?\n",
    "data=pd.read_csv(\"Destinations data.csv\")\n",
    "relation= data[\"All inclusive hotels\"].corr(data[\"Rating\"])\n",
    "print(f\"The correlation between number of all-inclusive hotels and score is: {relation:.2f}\")"
   ]
  },
  {
   "cell_type": "code",
   "execution_count": 282,
   "metadata": {},
   "outputs": [
    {
     "data": {
      "text/plain": [
       "<function matplotlib.pyplot.show(close=None, block=None)>"
      ]
     },
     "execution_count": 282,
     "metadata": {},
     "output_type": "execute_result"
    },
    {
     "data": {
      "image/png": "[encoded data removed]",
      "text/plain": [
       "<Figure size 432x288 with 1 Axes>"
      ]
     },
     "metadata": {
      "needs_background": "light"
     },
     "output_type": "display_data"
    }
   ],
   "source": [
    "# Create a data visualisation diagram to show destination and highest scores?\n",
    "import matplotlib.pyplot as plt\n",
    "data=pd.read_csv(\"Destinations data.csv\")\n",
    "df= pd.DataFrame(data)\n",
    "x = list(df.iloc[:,0])\n",
    "y = list(df.iloc[:,1])\n",
    "plt.bar(x,y)\n",
    "plt.title(\"Relation between Destinations and Rating\")\n",
    "plt.xlabel(\"Destinations\")\n",
    "plt.ylabel(\"Rating\")\n",
    "plt.show"
   ]
  }
 ],
 "metadata": {
  "interpreter": {
   "hash": "fb4569285eef3a3450cb62085a5b1e0da4bce0af555edc33dcf29baf3acc1368"
  },
  "kernelspec": {
   "display_name": "Python 3.10.2 64-bit",
   "language": "python",
   "name": "python3"
  },
  "language_info": {
   "codemirror_mode": {
    "name": "ipython",
    "version": 3
   },
   "file_extension": ".py",
   "mimetype": "text/x-python",
   "name": "python",
   "nbconvert_exporter": "python",
   "pygments_lexer": "ipython3",
   "version": "3.10.2"
  },
  "orig_nbformat": 4
 },
 "nbformat": 4,
 "nbformat_minor": 2
}
