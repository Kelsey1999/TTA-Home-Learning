{
 "cells": [
  {
   "cell_type": "markdown",
   "metadata": {},
   "source": [
    "Task 1\n",
    "\n",
    "Write a program that does the following:​\n",
    "\n",
    "a) Stores a random number (1-10) in a variable – see hint below.​\n",
    "\n",
    "b) Asks a user for their name and stores this in a variable.​\n",
    "\n",
    "c) Asks a user to guess the number between 1 and 10.​\n",
    "\n",
    "d) Tells the user whether they have guessed correctly."
   ]
  },
  {
   "cell_type": "code",
   "execution_count": 1,
   "metadata": {},
   "outputs": [
    {
     "name": "stdout",
     "output_type": "stream",
     "text": [
      "my name is \n"
     ]
    }
   ],
   "source": [
    "name = input(\"what is your name?: \")\n",
    "print(\"my name is\",name)"
   ]
  },
  {
   "cell_type": "code",
   "execution_count": null,
   "metadata": {},
   "outputs": [],
   "source": [
    "number = random.randint(1,10)\n",
    "print(\"the random number is\",number)"
   ]
  },
  {
   "cell_type": "code",
   "execution_count": null,
   "metadata": {},
   "outputs": [],
   "source": [
    "guess = int(input(\"choose a number between 1 and 10: \"))\n",
    "print(\"you have guessed\", guess)"
   ]
  },
  {
   "cell_type": "code",
   "execution_count": null,
   "metadata": {},
   "outputs": [],
   "source": [
    "if number == guess:\n",
    "    \"if number is the same as guess\"\n",
    "    print(\"You are correct\")\n",
    "else:\n",
    "    \"if this is not correct\"\n",
    "    print(\"You are not correct\")\n",
    "\n",
    "print(\"the Random number was:\", number)"
   ]
  },
  {
   "cell_type": "markdown",
   "metadata": {},
   "source": [
    "Task 2\n",
    "Write a program that asks a user for their favourite number between 1 and 100 and then tells them a joke based on the number. You should use a minimum of 3 jokes.  \n"
   ]
  },
  {
   "cell_type": "code",
   "execution_count": null,
   "metadata": {},
   "outputs": [],
   "source": [
    "J1 = \"best Joke\"\n",
    "J2 = \"Dad Jokes\"\n",
    "J3 = \"Mum Jokes\"\n",
    "\n",
    "user = int(input(\"Pick a number bewteen 1 - 100: \"))\n",
    "if user % 2 == 0 and user % 3 == 0:\n",
    "    print(J3)\n",
    "elif user % 5 == 0 and user % 3 == 0:\n",
    "    print(J2)\n",
    "elif user % 5 == 0 and user % 2 == 0:\n",
    "    print(J1)\n",
    "elif user % 2 == 0:\n",
    "    print(J1)\n",
    "elif user % 3 == 0:\n",
    "    print(J2)\n",
    "elif user % 5 == 0:\n",
    "    print(J3)"
   ]
  },
  {
   "cell_type": "markdown",
   "metadata": {},
   "source": [
    "Task 3\n",
    "Write a program that allows user to enter their favourite starter, main course, dessert and drink.\n",
    "Concatenate these and output a message which says – “Your favourite meal is  ………with a glass of….”"
   ]
  },
  {
   "cell_type": "code",
   "execution_count": null,
   "metadata": {},
   "outputs": [],
   "source": [
    "Food = input(\"what is your vavourite food? \")\n",
    "wine = input(\"whats your favourite wine: \")\n",
    "Desert = input(\"whats your fav desert?\")\n",
    "\n",
    "print(\"Your favourite meal is:\", Food, \"with a glass of\", wine)"
   ]
  },
  {
   "cell_type": "markdown",
   "metadata": {},
   "source": [
    "Task 4\n",
    "A motorbike costs £2000 and loses 10% of its value every year. Using a loop, print the value of the bike every following year until it falls below £1000."
   ]
  },
  {
   "cell_type": "code",
   "execution_count": null,
   "metadata": {},
   "outputs": [],
   "source": [
    "C = 2000\n",
    "\n",
    "for i in range(20):\n",
    "    if C >= 1000:\n",
    "        C -= (2000 * .10)\n",
    "    else:\n",
    "        break\n",
    "print(C)"
   ]
  },
  {
   "cell_type": "markdown",
   "metadata": {},
   "source": [
    "Task 5​\n",
    "\n",
    "Write a program which will ask for two numbers from a user. Then offer a menu to the user giving them a choice of operator:​\n",
    "​\n",
    "e.g. – Enter “a” if you want to add​\n",
    "\n",
    "                   “b” if you want to subtract​\n",
    "\n",
    "​\n",
    "\n",
    "Include +, -, /, *, ** square (to the power of). Once the user has selected which operator they wish to use, perform the calculation.​"
   ]
  },
  {
   "cell_type": "code",
   "execution_count": null,
   "metadata": {},
   "outputs": [],
   "source": [
    "def task(a,b):\n",
    "    menu = input(\"Please select from the following functions:\\n\"\n",
    "                 \"A = subtract (-)\\n\"\n",
    "                 \"B = multiply (*)\\n\"\n",
    "                 \"C = divide (/) \\n\"\n",
    "                 \"D = square (**):\"\n",
    "                 \" \\n\" )\n",
    "    Result = 0\n",
    "    if menu == \"A\":\n",
    "        print(\"You Chose to Subtract\",a,\"&\",b)\n",
    "        Result = a-b\n",
    "        sleep(2)\n",
    "        print(a, \"-\", b, \"is =\",Result)\n",
    "    elif menu == \"B\":\n",
    "        print(\"You Chose to multiply\",a,\"&\",b)\n",
    "        Result = a * b\n",
    "        sleep(2)\n",
    "        print(a, \"*\", b, \"is =\",Result)\n",
    "    elif menu == \"C\":\n",
    "        print(\"You Chose to divide\",a,\"&\",b)\n",
    "        Result = a / b\n",
    "        sleep(2)\n",
    "        print(a, \"/\", b, \"is =\",Result)\n",
    "    elif menu == \"D\":\n",
    "        print(\"You Chose to Square\",a,\"&\",b)\n",
    "        sleep(2)\n",
    "        Result = (a + b)**2\n",
    "        print(\"Your square root is: \",Result)\n",
    "\n",
    "\n",
    "N1 = int(input(\"please select a number: \"))\n",
    "N2 = int(input(\"please select a number: \"))\n",
    "\n",
    "task(N1,N2)"
   ]
  }
 ],
 "metadata": {
  "interpreter": {
   "hash": "5d240ba0dc525c389faa33f5dcce5b4f32b6d6aa6d70d6d2dd929bd2b09ab69f"
  },
  "kernelspec": {
   "display_name": "Python 3.10.2 64-bit",
   "language": "python",
   "name": "python3"
  },
  "language_info": {
   "codemirror_mode": {
    "name": "ipython",
    "version": 3
   },
   "file_extension": ".py",
   "mimetype": "text/x-python",
   "name": "python",
   "nbconvert_exporter": "python",
   "pygments_lexer": "ipython3",
   "version": "3.10.2"
  },
  "orig_nbformat": 4
 },
 "nbformat": 4,
 "nbformat_minor": 2
}
