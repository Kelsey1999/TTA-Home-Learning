{
 "cells": [
  {
   "cell_type": "markdown",
   "metadata": {},
   "source": [
    " Create your own Flow Diagram, a subject of your \n",
    "own choice, Example: Fast food order and convert it \n",
    "into code.\n",
    "\n",
    "\n"
   ]
  },
  {
   "cell_type": "code",
   "execution_count": 2,
   "metadata": {},
   "outputs": [
    {
     "name": "stdout",
     "output_type": "stream",
     "text": [
      "Hello, welcome to KelChe Burger\n",
      "your burger have have been ordered\n",
      "your fries have been ordered\n",
      "your drink have been ordered\n",
      "your order is: 1 Burger, 1 Fries and 1 Drink\n",
      "thank you for your order, please come again\n"
     ]
    }
   ],
   "source": [
    "from time import sleep\n",
    "def order():\n",
    "    print(\"Hello, welcome to KelChe Burger\")\n",
    "    question = input(\"Please say yes if you would like a burger or no to end transaction: \")\n",
    "    if question == \"no\":\n",
    "        print(\"Thank you for stopping by, see you next time\")\n",
    "    else:\n",
    "        print(\"your burger have have been ordered\")\n",
    "        question = input(\"would you like some fries?: \")\n",
    "        if question == \"yes\":\n",
    "            print(\"your fries have been ordered\")\n",
    "            question = input(\"would you like a drink?: \")\n",
    "            if question == \"yes\":\n",
    "                print(\"your drink have been ordered\")\n",
    "                sleep(2)\n",
    "                print(\"your order is: 1 Burger, 1 Fries and 1 Drink\")\n",
    "                pay = int(input(\"please pay £55: \"))\n",
    "                if pay == 55:\n",
    "                    print(\"thank you for your order, please come again\")\n",
    "                else:\n",
    "                    print(\"incorrect value\")\n",
    "                    pay = int(input(\"please pay £55: \"))\n",
    "                    if pay == 55:\n",
    "                        print(\"thank you for your order, please come again\")\n",
    "            else:\n",
    "                print(\"your order is: 1 Burger, 1 Fries and 0 Drink\")\n",
    "                pay = int(input(\"please pay £45: \"))\n",
    "                if pay == 45:\n",
    "                    print(\"thank you for your order, please come again\")\n",
    "                else:\n",
    "                    print(\"incorrect value\")\n",
    "                    pay = int(input(\"please pay £45: \"))\n",
    "                    if pay == 45:\n",
    "                        print(\"thank you for your order, please come again\")\n",
    "        else:\n",
    "            print(\"you have ordered 0 fries\")\n",
    "            question = input(\"would you like a drink?: \")\n",
    "            if question == \"yes\":\n",
    "                print(\"your drink have been ordered\")\n",
    "                sleep(2)\n",
    "                print(\"your order is: 1 Burger, 0 Fries and 1 Drink\")\n",
    "                pay = int(input(\"please pay £35: \"))\n",
    "                if pay == 35:\n",
    "                    print(\"thank you for your order, please come again\")\n",
    "                else:\n",
    "                    print(\"incorrect value\")\n",
    "                    pay = int(input(\"please pay £35: \"))\n",
    "                    if pay == 35:\n",
    "                        print(\"thank you for your order, please come again\")\n",
    "            else:\n",
    "                print(\"your order is: 1 Burger, 0 Fries and 0 Drink\")\n",
    "                pay = int(input(\"please pay £25: \"))\n",
    "                if pay == 25:\n",
    "                    print(\"thank you for your order, please come again\")\n",
    "                else:\n",
    "                    print(\"incorrect value\")\n",
    "                    pay = int(input(\"please pay £25: \"))\n",
    "                    if pay == 25:\n",
    "                        print(\"thank you for your order, please come again\")\n",
    "\n",
    "order()\n"
   ]
  },
  {
   "cell_type": "markdown",
   "metadata": {},
   "source": [
    "As an extension to the motorbike task that costs \n",
    "£2000 and loses 10% of its value every year. Set up \n",
    "a function that performs the calculation by passing \n",
    "in parameters. Then using a loop, print the value of \n",
    "the bike every following year until it falls below \n",
    "£1000."
   ]
  },
  {
   "cell_type": "code",
   "execution_count": 17,
   "metadata": {},
   "outputs": [
    {
     "name": "stdout",
     "output_type": "stream",
     "text": [
      "It is 2023 your bike now costs: 1800.0\n",
      "It is 2024 your bike now costs: 1620.0\n",
      "It is 2025 your bike now costs: 1458.0\n",
      "It is 2026 your bike now costs: 1312.2\n",
      "It is 2027 your bike now costs: 1180.98\n",
      "It is 2028 your bike now costs: 1062.882\n",
      "It is 2029 your bike now costs: 956.5938000000001\n"
     ]
    }
   ],
   "source": [
    "from time import sleep\n",
    "def bike():\n",
    "    cost = 2000\n",
    "    year = 2022\n",
    "    for i in range(cost):\n",
    "        if cost > 1000:\n",
    "            mish = cost * 0.10\n",
    "            cost = cost - mish\n",
    "            year = year + 1\n",
    "            print(\"It is\", year,\"your bike now costs:\", cost)\n",
    "            sleep(2)\n",
    "\n",
    "bike()"
   ]
  },
  {
   "cell_type": "markdown",
   "metadata": {},
   "source": [
    "Write a program which will ask for two numbers \n",
    "from a user. Then offer an option menu to the user \n",
    "giving them a choice of maths operators. Once the \n",
    "user has selected which operator they wish to use, \n",
    "perform the calculation by using a procedure and \n",
    "passing parameters."
   ]
  },
  {
   "cell_type": "code",
   "execution_count": 7,
   "metadata": {},
   "outputs": [
    {
     "name": "stdout",
     "output_type": "stream",
     "text": [
      "You Chose to Subtract 60 & 30\n",
      "60 - 30 is = 30\n"
     ]
    }
   ],
   "source": [
    "def task(a,b):\n",
    "    menu = input(\"Please select from the following functions:\\n\"\n",
    "                 \"A = subtract (-)\\n\"\n",
    "                 \"B = multiply (*)\\n\"\n",
    "                 \"C = divide (/) \\n\"\n",
    "                 \"D = square (**):\"\n",
    "                 \" \\n\" )\n",
    "    Result = 0\n",
    "    if menu == \"A\":\n",
    "        print(\"You Chose to Subtract\",a,\"&\",b)\n",
    "        Result = a-b\n",
    "        \"sleep(2)\"\n",
    "        print(a, \"-\", b, \"is =\",Result)\n",
    "    elif menu == \"B\":\n",
    "        print(\"You Chose to multiply\",a,\"&\",b)\n",
    "        Result = a * b\n",
    "        \"sleep(2)\"\n",
    "        print(a, \"*\", b, \"is =\",Result)\n",
    "    elif menu == \"C\":\n",
    "        print(\"You Chose to divide\",a,\"&\",b)\n",
    "        Result = a / b\n",
    "        \"sleep(2)\"\n",
    "        print(a, \"/\", b, \"is =\",Result)\n",
    "    elif menu == \"D\":\n",
    "        print(\"You Chose to Square\",a,\"&\",b)\n",
    "        \"sleep(2)\"\n",
    "        Result = (a + b)**2\n",
    "        print(\"Your square root is: \",Result)\n",
    "\n",
    "\n",
    "N1 = int(input(\"please select a number: \"))\n",
    "N2 = int(input(\"please select a number: \"))\n",
    "task(N1,N2)"
   ]
  }
 ],
 "metadata": {
  "interpreter": {
   "hash": "5d240ba0dc525c389faa33f5dcce5b4f32b6d6aa6d70d6d2dd929bd2b09ab69f"
  },
  "kernelspec": {
   "display_name": "Python 3.10.2 64-bit",
   "language": "python",
   "name": "python3"
  },
  "language_info": {
   "codemirror_mode": {
    "name": "ipython",
    "version": 3
   },
   "file_extension": ".py",
   "mimetype": "text/x-python",
   "name": "python",
   "nbconvert_exporter": "python",
   "pygments_lexer": "ipython3",
   "version": "3.10.2"
  },
  "orig_nbformat": 4
 },
 "nbformat": 4,
 "nbformat_minor": 2
}
