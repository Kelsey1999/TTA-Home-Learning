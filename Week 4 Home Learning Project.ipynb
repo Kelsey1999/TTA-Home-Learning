{
 "cells": [
  {
   "cell_type": "code",
   "execution_count": 9,
   "metadata": {},
   "outputs": [
    {
     "name": "stdout",
     "output_type": "stream",
     "text": [
      "Requirement already satisfied: numpy in c:\\users\\user\\appdata\\local\\programs\\python\\python310\\lib\\site-packages (1.22.3)Note: you may need to restart the kernel to use updated packages.\n",
      "\n"
     ]
    },
    {
     "name": "stderr",
     "output_type": "stream",
     "text": [
      "WARNING: You are using pip version 21.2.4; however, version 22.0.4 is available.\n",
      "You should consider upgrading via the 'C:\\Users\\user\\AppData\\Local\\Programs\\Python\\Python310\\python.exe -m pip install --upgrade pip' command.\n"
     ]
    }
   ],
   "source": [
    "pip install numpy"
   ]
  },
  {
   "cell_type": "markdown",
   "metadata": {},
   "source": [
    "Task 1\n",
    "Create a 1D array of numbers from 0 to 9​"
   ]
  },
  {
   "cell_type": "code",
   "execution_count": 2,
   "metadata": {},
   "outputs": [
    {
     "name": "stdout",
     "output_type": "stream",
     "text": [
      "[0 1 2 3 4 5 6 7 8 9]\n"
     ]
    }
   ],
   "source": [
    "import numpy as np\n",
    "a = np.arange(10)\n",
    "print(a)"
   ]
  },
  {
   "cell_type": "markdown",
   "metadata": {},
   "source": [
    "Task 2\n",
    "Create a 3×3 NumPy array of all Boolean value Trues​"
   ]
  },
  {
   "cell_type": "code",
   "execution_count": 3,
   "metadata": {},
   "outputs": [
    {
     "name": "stdout",
     "output_type": "stream",
     "text": [
      "3\n",
      "[[[ True  True  True]\n",
      "  [ True  True  True]\n",
      "  [ True  True  True]]]\n"
     ]
    }
   ],
   "source": [
    "b = np.array([[[True,True,True],[True,True,True],[True,True,True]]]) #using a 3D Matrix\n",
    "print(b.ndim)\n",
    "print(b)"
   ]
  },
  {
   "cell_type": "markdown",
   "metadata": {},
   "source": [
    "Task 3\n",
    "Extract all odd numbers from array of 1-10​"
   ]
  },
  {
   "cell_type": "code",
   "execution_count": 4,
   "metadata": {},
   "outputs": [
    {
     "name": "stdout",
     "output_type": "stream",
     "text": [
      "[1, 3, 5, 7, 9]\n"
     ]
    }
   ],
   "source": [
    "c = np.arange(1,10)\n",
    "c = [i for i in c if i % 2 == 1] #used a loop to find the odd numbers\n",
    "print(c)"
   ]
  },
  {
   "cell_type": "markdown",
   "metadata": {},
   "source": [
    "Task 4\n",
    "Replace all odd numbers in an array of 1-10 with the value -1​"
   ]
  },
  {
   "cell_type": "code",
   "execution_count": 5,
   "metadata": {},
   "outputs": [
    {
     "name": "stdout",
     "output_type": "stream",
     "text": [
      "[ 1 -1  3 -1  5 -1  7 -1 -1]\n"
     ]
    }
   ],
   "source": [
    "d = np.arange(1,10)\n",
    "for i in d:\n",
    "    if i % 2 == 1: #used a loop to find odd numbers\n",
    "        d[i] = -1 #find the position of the odd numbers and replace them with -1\n",
    "print(d)"
   ]
  },
  {
   "cell_type": "markdown",
   "metadata": {},
   "source": [
    "Task 5\n",
    "Convert a 1D array to a 2D array with 2 rows​"
   ]
  },
  {
   "cell_type": "code",
   "execution_count": 6,
   "metadata": {},
   "outputs": [
    {
     "name": "stdout",
     "output_type": "stream",
     "text": [
      "[ 1  2  3  4  5  6  7  8  9 10]\n",
      "[[ 1  2  3  4  5]\n",
      " [ 6  7  8  9 10]]\n"
     ]
    }
   ],
   "source": [
    "e = np.arange(1,11) #single 1D array e\n",
    "print(e)\n",
    "e = np.array([[1,2,3,4,5],#converted e into a 2D array with 2 rows\n",
    "             [6,7,8,9,10]])\n",
    "print(e)"
   ]
  },
  {
   "cell_type": "markdown",
   "metadata": {},
   "source": [
    "Task 6\n",
    "Create two arrays a and b, stack these two arrays vertically use the np.dot and np.sum to calculate totals​"
   ]
  },
  {
   "cell_type": "code",
   "execution_count": 7,
   "metadata": {},
   "outputs": [
    {
     "name": "stdout",
     "output_type": "stream",
     "text": [
      "[[ 45  48  51]\n",
      " [162 174 186]\n",
      " [279 300 321]]\n",
      "1566\n"
     ]
    }
   ],
   "source": [
    "a = np.arange(9).reshape(3,3) #reshape helps group them in 2D arrays\n",
    "b = np.arange(10,19).reshape(3,3)\n",
    "c = np.dot(a,b)#np.dot multiplies each element within the matrix\n",
    "d = np.sum(c)#np.sum sums the total elements in the array\n",
    "print(c)\n",
    "print(d)"
   ]
  },
  {
   "cell_type": "markdown",
   "metadata": {},
   "source": [
    "Task 7\n",
    "Create the following pattern without hardcoding. Use only NumPy functions.​"
   ]
  },
  {
   "cell_type": "code",
   "execution_count": 22,
   "metadata": {},
   "outputs": [
    {
     "name": "stdout",
     "output_type": "stream",
     "text": [
      "[1 1 1 2 2 2 3 3 3 1 2 3 1 2 3 1 2 3]\n"
     ]
    }
   ],
   "source": [
    "## Create 111222333123123123 without hardcording ####\n",
    "a = np.array ([[[[[1,1,1],\n",
    "             [2,2,2],\n",
    "             [3,3,3],\n",
    "             [1,2,3],\n",
    "             [1,2,3],\n",
    "             [1,2,3]]]]]) ## here we created a 6 dimensional array to give us the number needed ###\n",
    "             \n",
    "print(a.flatten()) ## used the flattened object to create a 1 dimensional array\n"
   ]
  },
  {
   "cell_type": "markdown",
   "metadata": {},
   "source": [
    "Task 8\n",
    "In two arrays a ( 1,2,3,4,5) and b ( 4,5,6,7,8,9) – remove all repeating  items present in array b​"
   ]
  },
  {
   "cell_type": "code",
   "execution_count": 5,
   "metadata": {},
   "outputs": [],
   "source": [
    "import numpy as np"
   ]
  },
  {
   "cell_type": "code",
   "execution_count": 4,
   "metadata": {},
   "outputs": [
    {
     "name": "stdout",
     "output_type": "stream",
     "text": [
      "[6 7 8 9]\n"
     ]
    }
   ],
   "source": [
    "import numpy as np\n",
    "a = np.arange(1,6) #create a range to display 1 - 5\n",
    "b = np.arange(4,10) #create a range to display 4 - 10\n",
    "c = [] #created an empty list C\n",
    "d = [] #created an empty list C\n",
    "\n",
    "for i in b: #looping through b\n",
    "        if i not in a:#checking if each element of b is in a\n",
    "            c.append(i)#if i is not in a then append to c\n",
    "b = np.array(c) #changing the values of b to an array of c as c no longer holds the matching elements in b\n",
    "print(b)\n"
   ]
  },
  {
   "cell_type": "markdown",
   "metadata": {},
   "source": [
    "Task 9\n",
    "Get all items between 3 and 7 from a and b and sum them together​"
   ]
  },
  {
   "cell_type": "code",
   "execution_count": 7,
   "metadata": {},
   "outputs": [
    {
     "name": "stdout",
     "output_type": "stream",
     "text": [
      "[3 4 5]\n",
      "12\n"
     ]
    }
   ],
   "source": [
    "for i in a:#loop through a\n",
    "    if i == 3 or i == 4 or i == 5:#check if it matches 3 4 or 5\n",
    "        d.append(i)#append to empty list d where it matches\n",
    "for i in b: #loop through b\n",
    "    if i == 6 or i == 7: #check if it matches 6 or 7\n",
    "        d.append(i) #append to empty list d where it matches\n",
    "s_array = np.array(d) #change d from a list to an array\n",
    "sum_array = sum(s_array) # sum the values in the array\n",
    "print(s_array)\n",
    "print(sum_array)"
   ]
  }
 ],
 "metadata": {
  "interpreter": {
   "hash": "fb4569285eef3a3450cb62085a5b1e0da4bce0af555edc33dcf29baf3acc1368"
  },
  "kernelspec": {
   "display_name": "Python 3.10.2 64-bit",
   "language": "python",
   "name": "python3"
  },
  "language_info": {
   "codemirror_mode": {
    "name": "ipython",
    "version": 3
   },
   "file_extension": ".py",
   "mimetype": "text/x-python",
   "name": "python",
   "nbconvert_exporter": "python",
   "pygments_lexer": "ipython3",
   "version": "3.10.2"
  },
  "orig_nbformat": 4
 },
 "nbformat": 4,
 "nbformat_minor": 2
}
