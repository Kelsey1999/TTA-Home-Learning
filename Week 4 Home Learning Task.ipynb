{
 "cells": [
  {
   "cell_type": "markdown",
   "metadata": {},
   "source": [
    "Task 1 Write a program that allows you to enter 4 numbers and stores them in a file called “Numbers” 3​ 45​ 83​ 21​ Have a go at ‘w’ ‘r’  ‘a’​"
   ]
  },
  {
   "cell_type": "code",
   "execution_count": 13,
   "metadata": {},
   "outputs": [],
   "source": [
    "numbers = open('numbers.txt', 'w+') #create a file called numbers\n",
    "\n",
    "def numb(a,b,c,d):#create a function called numb that holds 4 arguments\n",
    "        a = input(\"Please select your 1st number: \") #request 1\n",
    "        b = input(\"Please select your 2nd number: \") #request 2\n",
    "        c = input(\"Please select your 3rd number: \") #request 3\n",
    "        d = input(\"Please select your 4th number: \") #request 4\n",
    "        with open('numbers.txt', 'a') as num: # open the file to append using a\n",
    "            num.write(a) #apend a to the file\n",
    "            num.write(b) #apend b to the file\n",
    "            num.write(c) #apend c to the file\n",
    "            num.write(d) #apend d to the file\n"
   ]
  },
  {
   "cell_type": "markdown",
   "metadata": {},
   "source": [
    "Task 2 Write a program to ask a student for their percentage mark and convert this to a grade.​ The conversion will be done in a function called mark_grade "
   ]
  },
  {
   "cell_type": "code",
   "execution_count": 14,
   "metadata": {},
   "outputs": [],
   "source": [
    "def mark_grade():#create a function with one argument\n",
    "    a = int(input(\"what is your percentage score: \"))#request for the percentage\n",
    "    if a < 50:#check if percentage is within a certain range\n",
    "        print(\"your Grade is D\")#print result if criteria is met\n",
    "    if a >50 and a <65:#check if percentage is within a certain range\n",
    "        print(\"your Grade is C\")#print result if criteria is met\n",
    "    if a > 65 and a < 85:#check if percentage is within a certain range\n",
    "        print(\"Your Grade is B\")#print result if criteria is met\n",
    "    if a > 85:#check if percentage is within a certain range\n",
    "        print(\"Your Grade is A\")#print result if criteria is met"
   ]
  },
  {
   "cell_type": "markdown",
   "metadata": {},
   "source": [
    "Task 3 \n",
    "Ask the user for their target grade and print this with their mark​\n",
    "\n",
    "If their target grade > exam grade display a suitable message​\n",
    "\n",
    "If their target grade = exam grade display a suitable message​\n",
    "\n",
    "If their target grade < exam grade display a suitable message"
   ]
  },
  {
   "cell_type": "code",
   "execution_count": 1,
   "metadata": {},
   "outputs": [],
   "source": [
    "## Part B ###\n",
    "## Ask user for target Grade:\n",
    "# if target grade > exam grade display message\n",
    "# if target grade = exam grade display message\n",
    "# if target grade < exam grade display message\n",
    "\n",
    "\n",
    "def mark_grade2():\n",
    "    exam_grade = \"\"\n",
    "    name = input(\"what is your name: \").upper()\n",
    "    percentage_mark = float(input(\"What is your percentage Score: \"))\n",
    "    if percentage_mark >= 70:\n",
    "        exam_grade = \"A**\"\n",
    "        print(name, f\"your exam grade is:\",exam_grade)\n",
    "    if percentage_mark >= 60 and percentage_mark < 70:\n",
    "        exam_grade = \"A*\"\n",
    "        print(name, f\"your exam grade is:\",exam_grade)\n",
    "    if percentage_mark >= 50 and percentage_mark < 60 :\n",
    "        exam_grade = \"A\"\n",
    "        print(name, f\"your exam grade is:\",exam_grade)\n",
    "    if percentage_mark >= 45 and percentage_mark < 50:\n",
    "        exam_grade = \"B\"\n",
    "        print(name, f\"your exam grade is:\",exam_grade)\n",
    "    if percentage_mark >= 40 and percentage_mark < 45:\n",
    "        exam_grade = \"C\"\n",
    "        print(name, f\"your exam grade is:\",exam_grade)\n",
    "    if percentage_mark < 40:\n",
    "        exam_grade = \"D\"\n",
    "        print(name, f\"your exam grade is:\",exam_grade)\n",
    "\n",
    "    target_grade = input(\"what is your target grade: \").upper()\n",
    "    if target_grade == \"A**\" and exam_grade == \"A**\":\n",
    "        print(name,\"you made your target grade\")\n",
    "    if target_grade == \"A*\" and exam_grade == \"A*\":\n",
    "        print(name,\"you made your target grade\")\n",
    "    if target_grade == \"A\" and exam_grade == \"A\":\n",
    "        print(name,\"you made your target grade\")\n",
    "    if target_grade == \"B\" and exam_grade == \"B\":\n",
    "        print(name,\"you made your target grade\")\n",
    "    if target_grade == \"C\" and exam_grade == \"C\":\n",
    "        print(name,\"you made your target grade\")\n",
    "    if target_grade == \"D\" and exam_grade == \"D\":\n",
    "        print(name,\"you made your target grade\")\n",
    "\n",
    "    if target_grade == \"A**\" and exam_grade != \"A**\":\n",
    "        print(name,\"you did not meet your target grade\")\n",
    "    if target_grade == \"A*\" and exam_grade == \"A**\":\n",
    "        print(name,\"you Exceeded your target grade\")\n",
    "    if target_grade == \"A\" and exam_grade == \"A**\":\n",
    "        print(name,\"you Exceeded your target grade\")\n",
    "    if target_grade == \"B\" and exam_grade == \"A**\":\n",
    "        print(name,\"you Exceeded your target grade\")\n",
    "    if target_grade == \"C\" and exam_grade == \"A**\":\n",
    "        print(name,\"you Exceeded your target grade\")\n",
    "    if target_grade == \"D\" and exam_grade == \"A**\":\n",
    "        print(name,\"you Exceeded your target grade\")\n",
    "\n",
    "    if target_grade == \"A*\" and exam_grade == \"A\" or exam_grade == \"B\" or exam_grade == \"C\" or exam_grade == \"D\":\n",
    "        print(name,\"you did not meet your target grade\")\n",
    "    if target_grade == \"A\" and exam_grade == \"A*\":\n",
    "        print(name,\"you Exceeded your target grade\")\n",
    "    if target_grade == \"B\" and exam_grade == \"A*\":\n",
    "        print(name,\"you Exceeded your target grade\")\n",
    "    if target_grade == \"C\" and exam_grade == \"A*\":\n",
    "        print(name,\"you Exceeded your target grade\")\n",
    "    if target_grade == \"D\" and exam_grade == \"A*\":\n",
    "        print(name,\"you Exceeded your target grade\")\n",
    "\n",
    "    if target_grade == \"A\" and exam_grade == \"B\" or exam_grade == \"C\" or exam_grade == \"D\":\n",
    "        print(name,\"you did not meet your target grade\")\n",
    "    if target_grade == \"B\" and exam_grade == \"A\":\n",
    "        print(name,\"you Exceeded your target grade\")\n",
    "    if target_grade == \"C\" and exam_grade == \"A\":\n",
    "        print(name,\"you Exceeded your target grade\")\n",
    "    if target_grade == \"D\" and exam_grade == \"A\":\n",
    "        print(name,\"you Exceeded your target grade\")\n",
    "\n",
    "    if target_grade == \"B\" and exam_grade == \"C\" or exam_grade == \"D\":\n",
    "        print(name,\"you did not meet your target grade\")\n",
    "    if target_grade == \"C\" and exam_grade == \"B\":\n",
    "        print(name,\"you Exceeded your target grade\")\n",
    "    if target_grade == \"D\" and exam_grade == \"B\":\n",
    "        print(name,\"you Exceeded your target grade\")\n",
    "\n",
    "    if target_grade == \"C\" and exam_grade == \"D\":\n",
    "        print(name,\"you did not meet your target grade\")\n",
    "    if target_grade == \"D\" and exam_grade == \"C\":\n",
    "        print(name,\"you Exceeded your target grade\")\n",
    "    else:\n",
    "        \"\""
   ]
  },
  {
   "cell_type": "code",
   "execution_count": 4,
   "metadata": {},
   "outputs": [
    {
     "name": "stdout",
     "output_type": "stream",
     "text": [
      "ANNE your exam grade is: A*\n",
      "ANNE you made your target grade\n"
     ]
    }
   ],
   "source": [
    "mark_grade2()"
   ]
  }
 ],
 "metadata": {
  "interpreter": {
   "hash": "fb4569285eef3a3450cb62085a5b1e0da4bce0af555edc33dcf29baf3acc1368"
  },
  "kernelspec": {
   "display_name": "Python 3.10.2 64-bit",
   "language": "python",
   "name": "python3"
  },
  "language_info": {
   "codemirror_mode": {
    "name": "ipython",
    "version": 3
   },
   "file_extension": ".py",
   "mimetype": "text/x-python",
   "name": "python",
   "nbconvert_exporter": "python",
   "pygments_lexer": "ipython3",
   "version": "3.10.2"
  },
  "orig_nbformat": 4
 },
 "nbformat": 4,
 "nbformat_minor": 2
}
